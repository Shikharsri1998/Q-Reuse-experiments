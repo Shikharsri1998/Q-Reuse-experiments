{
 "cells": [
  {
   "cell_type": "code",
   "execution_count": null,
   "id": "73e424af-827e-4083-96a3-7b8aed20a0d5",
   "metadata": {},
   "outputs": [],
   "source": [
    "# Baseline Simulator"
   ]
  },
  {
   "cell_type": "code",
   "execution_count": 45,
   "id": "baedc11a-f016-4e3a-960e-737126c017a4",
   "metadata": {},
   "outputs": [],
   "source": [
    "# necessary libraries: Circuit Construction, transpilation, For simulation, visualization, JSON\n",
    "# Circuit Construction\n",
    "from qiskit import QuantumCircuit, ClassicalRegister, QuantumRegister\n",
    "\n",
    "#Transpilation\n",
    "from qiskit.transpiler.preset_passmanagers import generate_preset_pass_manager\n",
    "# For Simulation\n",
    "from qiskit_aer import AerSimulator\n",
    "from qiskit_ibm_runtime import QiskitRuntimeService\n",
    "aer_sim = AerSimulator()                              # for ideal simulation\n",
    "service = QiskitRuntimeService()\n",
    "\n",
    "real_backend = service.backend(\"ibm_sherbrooke\")\n",
    "aer = AerSimulator.from_backend(real_backend)           # for noisy simulation\n",
    "\n",
    "from qiskit_ibm_runtime import SamplerV2 as Sampler\n",
    "sampler_ideal = Sampler(backend=aer_sim)\n",
    "sampler_noisy = Sampler(backend=aer)\n",
    "\n",
    "#Visualization\n",
    "from qiskit.visualization import plot_histogram\n",
    "\n",
    "\n",
    "#JSON\n",
    "import json\n",
    "\n",
    "\n",
    "# For Fidelity\n",
    "from qiskit.quantum_info.analysis import hellinger_fidelity"
   ]
  },
  {
   "cell_type": "code",
   "execution_count": 46,
   "id": "4839c229-f155-47d8-adf1-7432656704a6",
   "metadata": {},
   "outputs": [],
   "source": [
    "# function for Circuit Construction (GHZ state for how many number of qubits, that is num_qubit argument of the function)\n",
    "\n",
    "def get_ghz_circ_static(num_qubit):\n",
    "    if num_qubit%2==1:                                                     #odd no of qubits\n",
    "        qr=QuantumRegister(num_qubit)\n",
    "        cr2=ClassicalRegister(num_qubit,name=\"cr2\")                     \n",
    "        qc=QuantumCircuit(qr,cr2)\n",
    "        mid_qubit_index=int((num_qubit-1)/2)\n",
    "        qc.h(mid_qubit_index)\n",
    "        for i in range(mid_qubit_index,num_qubit-1):\n",
    "            qc.cx(i,i+1)\n",
    "            qc.cx(num_qubit-i-1,num_qubit-i-2)\n",
    "        \n",
    "\n",
    "    else:                                                                    #even no of qubits\n",
    "        qr=QuantumRegister(num_qubit)\n",
    "        cr2=ClassicalRegister(num_qubit,name=\"cr2\")                     \n",
    "        qc=QuantumCircuit(qr,cr2)\n",
    "        mid_qubit_index=int((num_qubit-2)/2)\n",
    "        qc.h(mid_qubit_index)\n",
    "        for i in range(mid_qubit_index,num_qubit-2):\n",
    "            qc.cx(i,i+1)\n",
    "            qc.cx(num_qubit-1-i-1,num_qubit-i-3)\n",
    "        qc.cx(num_qubit-2,num_qubit-1)\n",
    "    for i in range(num_qubit):\n",
    "        qc.measure(qr[i],cr2[i])\n",
    "    return qc\n",
    "\n",
    "qc=get_ghz_circ_static(6)"
   ]
  },
  {
   "cell_type": "code",
   "execution_count": 47,
   "id": "26e25acf-a7db-4ba5-ba35-6feb827caee9",
   "metadata": {},
   "outputs": [],
   "source": [
    "# Transpilation ideal\n",
    "pm_i = generate_preset_pass_manager(backend=aer_sim, optimization_level=3)\n",
    "qc_ideal = pm_i.run(qc)\n",
    "\n",
    "# Transpilation noisy\n",
    "pm_r = generate_preset_pass_manager(backend=aer, optimization_level=3)\n",
    "qc_noisy = pm_r.run(qc)"
   ]
  },
  {
   "cell_type": "code",
   "execution_count": 48,
   "id": "f59a757e-d5a1-4c5a-a92d-b46d8e9742f6",
   "metadata": {},
   "outputs": [],
   "source": [
    "#Run the Circuit\n",
    "result_ideal = sampler_ideal.run([qc_ideal]).result()\n",
    "result_noisy = sampler_noisy.run([qc_noisy]).result()"
   ]
  },
  {
   "cell_type": "code",
   "execution_count": 51,
   "id": "c79b8697-b1d2-4c89-8430-d364fb2490c2",
   "metadata": {},
   "outputs": [],
   "source": [
    "# Post Processing to get Hellinger Fidelity\n",
    "counts_ideal = result_ideal[0].data.cr2.get_counts()\n",
    "counts_noisy = result_noisy[0].data.cr2.get_counts()\n",
    "Fidelity_baseline_simulator = hellinger_fidelity(counts_ideal, counts_noisy)"
   ]
  },
  {
   "cell_type": "code",
   "execution_count": 52,
   "id": "7c9c3947-dae5-40be-86a7-277cc17b5c31",
   "metadata": {},
   "outputs": [
    {
     "data": {
      "text/plain": [
       "0.9110448217886312"
      ]
     },
     "execution_count": 52,
     "metadata": {},
     "output_type": "execute_result"
    }
   ],
   "source": [
    "Fidelity_baseline_simulator"
   ]
  },
  {
   "cell_type": "code",
   "execution_count": 53,
   "id": "2c5c0699-66e2-4106-a553-ef78e49245d0",
   "metadata": {},
   "outputs": [],
   "source": [
    "#Store Result into JSON file\n",
    "import json\n",
    "data = {\n",
    "    \"Fidelity_baseline_simulator\" : Fidelity_baseline_simulator,    \n",
    "    }\n",
    "\n",
    "\n",
    "with open(\"Fidelity_scripts_comparison.json\", \"w\") as f:\n",
    "    json.dump(data, f, indent=4)"
   ]
  }
 ],
 "metadata": {
  "kernelspec": {
   "display_name": "Python 3 (ipykernel)",
   "language": "python",
   "name": "python3"
  },
  "language_info": {
   "codemirror_mode": {
    "name": "ipython",
    "version": 3
   },
   "file_extension": ".py",
   "mimetype": "text/x-python",
   "name": "python",
   "nbconvert_exporter": "python",
   "pygments_lexer": "ipython3",
   "version": "3.11.5"
  }
 },
 "nbformat": 4,
 "nbformat_minor": 5
}
